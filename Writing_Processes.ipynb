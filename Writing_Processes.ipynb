{
 "cells": [
  {
   "cell_type": "markdown",
   "metadata": {},
   "source": [
    "# Linking Writing Processes to Writing Quality"
   ]
  },
  {
   "cell_type": "markdown",
   "metadata": {},
   "source": [
    "By: David Hartsman"
   ]
  },
  {
   "cell_type": "markdown",
   "metadata": {},
   "source": [
    "<hr style=\"border: 4px solid black\">"
   ]
  },
  {
   "cell_type": "code",
   "execution_count": 25,
   "metadata": {},
   "outputs": [],
   "source": [
    "import pandas as pd\n",
    "import numpy as np\n",
    "import matplotlib.pyplot as plt\n",
    "import seaborn as sns\n",
    "import warnings\n",
    "warnings.filterwarnings('ignore')\n",
    "%matplotlib inline"
   ]
  },
  {
   "cell_type": "markdown",
   "metadata": {},
   "source": [
    "### Data Dictionary/Reference: (Copied from Kaggle - https://www.kaggle.com/competitions/linking-writing-processes-to-writing-quality/data)\n",
    "File and Field Information\n",
    "`train_logs.csv` - Input logs to be used as training data. To prevent reproduction of the essay text, all alphanumeric character inputs have been replaced with the \"anonymous\" character q; punctuation and other special characters have not been anonymized.\n",
    "\n",
    "- id - The unique ID of the essay\n",
    "- event_id - The index of the event, ordered chronologically\n",
    "- down_time - The time of the down event in milliseconds\n",
    "- up_time - The time of the up event in milliseconds\n",
    "- action_time - The duration of the event (the difference between down_time and up_time)\n",
    "- activity - The category of activity which the event belongs to\n",
    "- Nonproduction - The event does not alter the text in any way\n",
    "- Input - The event adds text to the essay\n",
    "- Remove/Cut - The event removes text from the essay\n",
    "- Paste - The event changes the text through a paste input\n",
    "- Replace - The event replaces a section of text with another string\n",
    "- Move From [x1, y1] To [x2, y2] - The event moves a section of text spanning character index x1, y1 to a new location x2, y2\n",
    "- down_event - The name of the event when the key/mouse is pressed\n",
    "- up_event - The name of the event when the key/mouse is released\n",
    "- text_change - The text that changed as a result of the event (if any)\n",
    "- cursor_position - The character index of the text cursor after the event\n",
    "- word_count - The word count of the essay after the event\n",
    "### Additional Features referenced in the Kaggle Desc\n",
    "1. Production Rate\n",
    "        - The rate of written language production can be measured by counting the number of characters, words, clauses, sentences, or T-units in the writing process or written product generated per unit of time. Example measures are as follows.\n",
    "\n",
    "\n",
    "        a. number of characters (including spaces) produced per minute during the process\n",
    "        b. number of characters (including spaces) produced per minute in the product\n",
    "\n",
    "2. Pause\n",
    "        - Pause: Pauses are generally defined as inter-keystroke intervals (IKI) above a certain threshold (e.g., 2000 milliseconds). The IKI refers to the gap time between two consecutive key presses typically expressed in milliseconds. To illustrate, suppose a writer types a character \"A\" at time 1 and then a character \"B\" at time 2. One can obtain the IKI between the two characters simply using the formula: IKI = Time2 - Time1. Global measures of pausing are usually associated with the duration and frequency of pauses calculated from different dimensions. Below are some typical pause measures.\n",
    "        \n",
    "        a. number of pauses (in total or per minute) \n",
    "        b. proportion of pause time (as a % of total writing time)\n",
    "        c. pause length (usually the mean duration of all pauses in text production)\n",
    "        d. pause lengths or frequencies within words, between words, between sentences, between paragraphs, etc.\n",
    "        \n",
    "3. Revision: Revisions are operations of deletions or insertions in writing. A deletion is defined as the removal of any stretch of characters from a text whereas an insertion refers to a sequence of activities to add characters to a growing text (except the end). Below are some commonly used revision measures:\n",
    "\n",
    "        a. number of deletions (in total or per minute)\n",
    "        b. number of insertions (in total or per minute)\n",
    "        c. length of deletions (in characters)\n",
    "        d. length of insertions (in characters)\n",
    "        e. proportion of deletions (as a % of total writing time)\n",
    "        f. proportion of insertions (as a % of total writing time)\n",
    "        g. product vs. process ratio (The number of characters in the product divided by the number of characters produced during the writing process)\n",
    "        h. number/length of revisions at the point of inscription (i.e., at the current end of a text being produced)\n",
    "        i. number/length of revisions after the text has been transcribed (i.e., at a previous point in the text)\n",
    "        j. number of immediate revisions (the distance between the position of the flashing cursor and the revision point equal to zero)\n",
    "        k. number of distant revisions (the distance between the position of the flashing cursor and the revision point larger than zero)\n",
    "        \n",
    "        \n",
    "4. Process Variance: Process variance attends to the dynamics of the writing process in relation to time and thus represents how the writer's fluency may differ at different stages.\n",
    "\n",
    "        Process variance is generally measured by first dividing the whole writing process into a certain number of equal time intervals (e.g., 5 or 10) and then calculating the total number of characters produced in the intervals (often normalized to the average number of characters per minute), or to make it more comparable among writers, the proportion of characters produced per interval. \n",
    "        \n",
    "        The standard deviation of characters produced per interval is also calculated from keystroke logs as an indicator of process variance.\n",
    "\n",
    "\n",
    "Note that there may be events in the test set that do not occur in the training set. Your solution should be robust to unseen events.\n",
    "\n",
    "Note: Key_down and key_up events may not necessarily occur in the same order as they are presented in the dataset. To illustrate, a writer may press down \"a\" and then press down \"b\" before he/she even releases \"a\". However, all the keystroke information about \"a\" comes before \"b\" in the dataframe.\n",
    "\n",
    "`test_logs.csv` - Input logs to be used as test data. Contains the same fields as train_logs.csv. The logs available in the public version of this file are only examples to illustrate the format.\n",
    "\n",
    "\n",
    "`train_scores.csv`\n",
    "id - The unique ID of the essay\n",
    "score - The score the essay received out of 6 (the prediction target for the competition)\n",
    "sample_submission.csv - A submission file in the correct format. See the Evaluation page for details."
   ]
  },
  {
   "cell_type": "markdown",
   "metadata": {},
   "source": [
    "#### Data loading"
   ]
  },
  {
   "cell_type": "code",
   "execution_count": 2,
   "metadata": {},
   "outputs": [],
   "source": [
    "df = pd.read_csv('/Users/samalainabayeva/Desktop/FLAT_IRON!!!/writing_quality/linking-writing-processes-to-writing-quality/train_logs.csv')"
   ]
  },
  {
   "cell_type": "code",
   "execution_count": 3,
   "metadata": {},
   "outputs": [
    {
     "data": {
      "text/html": [
       "<div>\n",
       "<style scoped>\n",
       "    .dataframe tbody tr th:only-of-type {\n",
       "        vertical-align: middle;\n",
       "    }\n",
       "\n",
       "    .dataframe tbody tr th {\n",
       "        vertical-align: top;\n",
       "    }\n",
       "\n",
       "    .dataframe thead th {\n",
       "        text-align: right;\n",
       "    }\n",
       "</style>\n",
       "<table border=\"1\" class=\"dataframe\">\n",
       "  <thead>\n",
       "    <tr style=\"text-align: right;\">\n",
       "      <th></th>\n",
       "      <th>id</th>\n",
       "      <th>event_id</th>\n",
       "      <th>down_time</th>\n",
       "      <th>up_time</th>\n",
       "      <th>action_time</th>\n",
       "      <th>activity</th>\n",
       "      <th>down_event</th>\n",
       "      <th>up_event</th>\n",
       "      <th>text_change</th>\n",
       "      <th>cursor_position</th>\n",
       "      <th>word_count</th>\n",
       "    </tr>\n",
       "  </thead>\n",
       "  <tbody>\n",
       "    <tr>\n",
       "      <th>0</th>\n",
       "      <td>001519c8</td>\n",
       "      <td>1</td>\n",
       "      <td>4526</td>\n",
       "      <td>4557</td>\n",
       "      <td>31</td>\n",
       "      <td>Nonproduction</td>\n",
       "      <td>Leftclick</td>\n",
       "      <td>Leftclick</td>\n",
       "      <td>NoChange</td>\n",
       "      <td>0</td>\n",
       "      <td>0</td>\n",
       "    </tr>\n",
       "    <tr>\n",
       "      <th>1</th>\n",
       "      <td>001519c8</td>\n",
       "      <td>2</td>\n",
       "      <td>4558</td>\n",
       "      <td>4962</td>\n",
       "      <td>404</td>\n",
       "      <td>Nonproduction</td>\n",
       "      <td>Leftclick</td>\n",
       "      <td>Leftclick</td>\n",
       "      <td>NoChange</td>\n",
       "      <td>0</td>\n",
       "      <td>0</td>\n",
       "    </tr>\n",
       "    <tr>\n",
       "      <th>2</th>\n",
       "      <td>001519c8</td>\n",
       "      <td>3</td>\n",
       "      <td>106571</td>\n",
       "      <td>106571</td>\n",
       "      <td>0</td>\n",
       "      <td>Nonproduction</td>\n",
       "      <td>Shift</td>\n",
       "      <td>Shift</td>\n",
       "      <td>NoChange</td>\n",
       "      <td>0</td>\n",
       "      <td>0</td>\n",
       "    </tr>\n",
       "    <tr>\n",
       "      <th>3</th>\n",
       "      <td>001519c8</td>\n",
       "      <td>4</td>\n",
       "      <td>106686</td>\n",
       "      <td>106777</td>\n",
       "      <td>91</td>\n",
       "      <td>Input</td>\n",
       "      <td>q</td>\n",
       "      <td>q</td>\n",
       "      <td>q</td>\n",
       "      <td>1</td>\n",
       "      <td>1</td>\n",
       "    </tr>\n",
       "    <tr>\n",
       "      <th>4</th>\n",
       "      <td>001519c8</td>\n",
       "      <td>5</td>\n",
       "      <td>107196</td>\n",
       "      <td>107323</td>\n",
       "      <td>127</td>\n",
       "      <td>Input</td>\n",
       "      <td>q</td>\n",
       "      <td>q</td>\n",
       "      <td>q</td>\n",
       "      <td>2</td>\n",
       "      <td>1</td>\n",
       "    </tr>\n",
       "  </tbody>\n",
       "</table>\n",
       "</div>"
      ],
      "text/plain": [
       "         id  event_id  down_time  up_time  action_time       activity  \\\n",
       "0  001519c8         1       4526     4557           31  Nonproduction   \n",
       "1  001519c8         2       4558     4962          404  Nonproduction   \n",
       "2  001519c8         3     106571   106571            0  Nonproduction   \n",
       "3  001519c8         4     106686   106777           91          Input   \n",
       "4  001519c8         5     107196   107323          127          Input   \n",
       "\n",
       "  down_event   up_event text_change  cursor_position  word_count  \n",
       "0  Leftclick  Leftclick    NoChange                0           0  \n",
       "1  Leftclick  Leftclick    NoChange                0           0  \n",
       "2      Shift      Shift    NoChange                0           0  \n",
       "3          q          q           q                1           1  \n",
       "4          q          q           q                2           1  "
      ]
     },
     "execution_count": 3,
     "metadata": {},
     "output_type": "execute_result"
    }
   ],
   "source": [
    "df.head()"
   ]
  },
  {
   "cell_type": "code",
   "execution_count": 4,
   "metadata": {},
   "outputs": [
    {
     "name": "stdout",
     "output_type": "stream",
     "text": [
      "<class 'pandas.core.frame.DataFrame'>\n",
      "RangeIndex: 8405898 entries, 0 to 8405897\n",
      "Data columns (total 11 columns):\n",
      " #   Column           Dtype \n",
      "---  ------           ----- \n",
      " 0   id               object\n",
      " 1   event_id         int64 \n",
      " 2   down_time        int64 \n",
      " 3   up_time          int64 \n",
      " 4   action_time      int64 \n",
      " 5   activity         object\n",
      " 6   down_event       object\n",
      " 7   up_event         object\n",
      " 8   text_change      object\n",
      " 9   cursor_position  int64 \n",
      " 10  word_count       int64 \n",
      "dtypes: int64(6), object(5)\n",
      "memory usage: 705.5+ MB\n"
     ]
    }
   ],
   "source": [
    "df.info()"
   ]
  },
  {
   "cell_type": "code",
   "execution_count": 6,
   "metadata": {},
   "outputs": [
    {
     "data": {
      "text/plain": [
       "(8405898, 11)"
      ]
     },
     "execution_count": 6,
     "metadata": {},
     "output_type": "execute_result"
    }
   ],
   "source": [
    "df.shape"
   ]
  },
  {
   "cell_type": "code",
   "execution_count": 5,
   "metadata": {},
   "outputs": [
    {
     "data": {
      "text/plain": [
       "id                 0\n",
       "event_id           0\n",
       "down_time          0\n",
       "up_time            0\n",
       "action_time        0\n",
       "activity           0\n",
       "down_event         0\n",
       "up_event           0\n",
       "text_change        0\n",
       "cursor_position    0\n",
       "word_count         0\n",
       "dtype: int64"
      ]
     },
     "execution_count": 5,
     "metadata": {},
     "output_type": "execute_result"
    }
   ],
   "source": [
    "# whoopie! \n",
    "\n",
    "df.isna().sum()"
   ]
  },
  {
   "cell_type": "markdown",
   "metadata": {},
   "source": [
    "<hr style=\"border: 4px solid blue\">"
   ]
  },
  {
   "cell_type": "markdown",
   "metadata": {},
   "source": [
    "### Grouping by ID and aggregating statistics will be required in order to create a consolidated dataframe that can be used in supervised learning and machine learning algorithms."
   ]
  },
  {
   "cell_type": "code",
   "execution_count": 6,
   "metadata": {},
   "outputs": [
    {
     "data": {
      "text/plain": [
       "8403427"
      ]
     },
     "execution_count": 6,
     "metadata": {},
     "output_type": "execute_result"
    }
   ],
   "source": [
    "df[\"id\"].duplicated().sum()"
   ]
  },
  {
   "cell_type": "code",
   "execution_count": 7,
   "metadata": {},
   "outputs": [
    {
     "data": {
      "text/plain": [
       "2471"
      ]
     },
     "execution_count": 7,
     "metadata": {},
     "output_type": "execute_result"
    }
   ],
   "source": [
    "# corresponds to the number of labels we have for the data, so a lot of data needs to be aggregated\n",
    "\n",
    "df.shape[0] - df[\"id\"].duplicated().sum()"
   ]
  },
  {
   "cell_type": "markdown",
   "metadata": {},
   "source": [
    "<hr style=\"border: 4px solid blue\">"
   ]
  },
  {
   "cell_type": "markdown",
   "metadata": {},
   "source": [
    "#### Labels: These labels will have to be joined with the final training feature data on the id column"
   ]
  },
  {
   "cell_type": "code",
   "execution_count": 9,
   "metadata": {},
   "outputs": [],
   "source": [
    "grades = pd.read_csv('/Users/samalainabayeva/Desktop/FLAT_IRON!!!/writing_quality/linking-writing-processes-to-writing-quality/train_scores.csv')"
   ]
  },
  {
   "cell_type": "code",
   "execution_count": 10,
   "metadata": {},
   "outputs": [
    {
     "data": {
      "text/html": [
       "<div>\n",
       "<style scoped>\n",
       "    .dataframe tbody tr th:only-of-type {\n",
       "        vertical-align: middle;\n",
       "    }\n",
       "\n",
       "    .dataframe tbody tr th {\n",
       "        vertical-align: top;\n",
       "    }\n",
       "\n",
       "    .dataframe thead th {\n",
       "        text-align: right;\n",
       "    }\n",
       "</style>\n",
       "<table border=\"1\" class=\"dataframe\">\n",
       "  <thead>\n",
       "    <tr style=\"text-align: right;\">\n",
       "      <th></th>\n",
       "      <th>id</th>\n",
       "      <th>score</th>\n",
       "    </tr>\n",
       "  </thead>\n",
       "  <tbody>\n",
       "    <tr>\n",
       "      <th>0</th>\n",
       "      <td>001519c8</td>\n",
       "      <td>3.5</td>\n",
       "    </tr>\n",
       "    <tr>\n",
       "      <th>1</th>\n",
       "      <td>0022f953</td>\n",
       "      <td>3.5</td>\n",
       "    </tr>\n",
       "    <tr>\n",
       "      <th>2</th>\n",
       "      <td>0042269b</td>\n",
       "      <td>6.0</td>\n",
       "    </tr>\n",
       "    <tr>\n",
       "      <th>3</th>\n",
       "      <td>0059420b</td>\n",
       "      <td>2.0</td>\n",
       "    </tr>\n",
       "    <tr>\n",
       "      <th>4</th>\n",
       "      <td>0075873a</td>\n",
       "      <td>4.0</td>\n",
       "    </tr>\n",
       "    <tr>\n",
       "      <th>...</th>\n",
       "      <td>...</td>\n",
       "      <td>...</td>\n",
       "    </tr>\n",
       "    <tr>\n",
       "      <th>2466</th>\n",
       "      <td>ffb8c745</td>\n",
       "      <td>3.5</td>\n",
       "    </tr>\n",
       "    <tr>\n",
       "      <th>2467</th>\n",
       "      <td>ffbef7e5</td>\n",
       "      <td>4.0</td>\n",
       "    </tr>\n",
       "    <tr>\n",
       "      <th>2468</th>\n",
       "      <td>ffccd6fd</td>\n",
       "      <td>1.5</td>\n",
       "    </tr>\n",
       "    <tr>\n",
       "      <th>2469</th>\n",
       "      <td>ffec5b38</td>\n",
       "      <td>5.0</td>\n",
       "    </tr>\n",
       "    <tr>\n",
       "      <th>2470</th>\n",
       "      <td>fff05981</td>\n",
       "      <td>4.0</td>\n",
       "    </tr>\n",
       "  </tbody>\n",
       "</table>\n",
       "<p>2471 rows × 2 columns</p>\n",
       "</div>"
      ],
      "text/plain": [
       "            id  score\n",
       "0     001519c8    3.5\n",
       "1     0022f953    3.5\n",
       "2     0042269b    6.0\n",
       "3     0059420b    2.0\n",
       "4     0075873a    4.0\n",
       "...        ...    ...\n",
       "2466  ffb8c745    3.5\n",
       "2467  ffbef7e5    4.0\n",
       "2468  ffccd6fd    1.5\n",
       "2469  ffec5b38    5.0\n",
       "2470  fff05981    4.0\n",
       "\n",
       "[2471 rows x 2 columns]"
      ]
     },
     "execution_count": 10,
     "metadata": {},
     "output_type": "execute_result"
    }
   ],
   "source": [
    "grades"
   ]
  },
  {
   "cell_type": "markdown",
   "metadata": {},
   "source": [
    "<hr style=\"border: 4px solid blue\">"
   ]
  },
  {
   "cell_type": "markdown",
   "metadata": {},
   "source": [
    "### Distribution Visualizations\n",
    "##### Four different methods of displaying the distribution of scores in our data set. I would describe this data as adhering to a normal distribution. Of all the options, I think that the histplot with 12 bins corresponding to the 12 different discrete score values registers the strongest in terms of representing a distribution whereas the bar plot and count plot each have a bit more visual appeal, but their gaps between bars weakens the immediate visual recognition of the plot representing score distributions. "
   ]
  },
  {
   "cell_type": "code",
   "execution_count": 26,
   "metadata": {},
   "outputs": [
    {
     "data": {
      "image/png": "[encoded data removed]",
      "text/plain": [
       "<Figure size 800x600 with 1 Axes>"
      ]
     },
     "metadata": {},
     "output_type": "display_data"
    }
   ],
   "source": [
    "fig, ax = plt.subplots(figsize=(8,6))\n",
    "sns.histplot(data=grades, x='score', ax=ax, kde=True, bins=12)\n",
    "ax.set_title(\"Distribution of Grades for Essays\")\n",
    "ax.set_xlabel(\"Scores\");"
   ]
  },
  {
   "cell_type": "code",
   "execution_count": 45,
   "metadata": {},
   "outputs": [
    {
     "data": {
      "image/png": "[encoded data removed]",
      "text/plain": [
       "<Figure size 640x480 with 1 Axes>"
      ]
     },
     "metadata": {},
     "output_type": "display_data"
    }
   ],
   "source": [
    "# Create a custom color palette\n",
    "custom_palette = sns.color_palette(\"husl\", 8)\n",
    "\n",
    "# Plot histogram with the custom palette\n",
    "sns.histplot(data=grades, x='score', kde=True, bins=6, cbar='viridis')\n",
    "\n",
    "# Show the plot\n",
    "plt.show()"
   ]
  },
  {
   "cell_type": "markdown",
   "metadata": {},
   "source": [
    "### Assigning the value_counts to a new variable for different styles of plots"
   ]
  },
  {
   "cell_type": "code",
   "execution_count": 80,
   "metadata": {},
   "outputs": [
    {
     "data": {
      "text/plain": [
       "score\n",
       "0.5      5\n",
       "1.0     35\n",
       "1.5     69\n",
       "2.0     92\n",
       "2.5    201\n",
       "3.0    336\n",
       "3.5    486\n",
       "4.0    501\n",
       "4.5    402\n",
       "5.0    179\n",
       "5.5    128\n",
       "6.0     37\n",
       "Name: count, dtype: int64"
      ]
     },
     "execution_count": 80,
     "metadata": {},
     "output_type": "execute_result"
    }
   ],
   "source": [
    "grades['score'].value_counts().sort_index()"
   ]
  },
  {
   "cell_type": "code",
   "execution_count": 18,
   "metadata": {},
   "outputs": [],
   "source": [
    "grade_counts = grades['score'].value_counts().sort_index().reset_index()"
   ]
  },
  {
   "cell_type": "code",
   "execution_count": 19,
   "metadata": {},
   "outputs": [
    {
     "data": {
      "text/html": [
       "<div>\n",
       "<style scoped>\n",
       "    .dataframe tbody tr th:only-of-type {\n",
       "        vertical-align: middle;\n",
       "    }\n",
       "\n",
       "    .dataframe tbody tr th {\n",
       "        vertical-align: top;\n",
       "    }\n",
       "\n",
       "    .dataframe thead th {\n",
       "        text-align: right;\n",
       "    }\n",
       "</style>\n",
       "<table border=\"1\" class=\"dataframe\">\n",
       "  <thead>\n",
       "    <tr style=\"text-align: right;\">\n",
       "      <th></th>\n",
       "      <th>score</th>\n",
       "      <th>count</th>\n",
       "    </tr>\n",
       "  </thead>\n",
       "  <tbody>\n",
       "    <tr>\n",
       "      <th>0</th>\n",
       "      <td>0.5</td>\n",
       "      <td>5</td>\n",
       "    </tr>\n",
       "    <tr>\n",
       "      <th>1</th>\n",
       "      <td>1.0</td>\n",
       "      <td>35</td>\n",
       "    </tr>\n",
       "    <tr>\n",
       "      <th>2</th>\n",
       "      <td>1.5</td>\n",
       "      <td>69</td>\n",
       "    </tr>\n",
       "    <tr>\n",
       "      <th>3</th>\n",
       "      <td>2.0</td>\n",
       "      <td>92</td>\n",
       "    </tr>\n",
       "    <tr>\n",
       "      <th>4</th>\n",
       "      <td>2.5</td>\n",
       "      <td>201</td>\n",
       "    </tr>\n",
       "    <tr>\n",
       "      <th>5</th>\n",
       "      <td>3.0</td>\n",
       "      <td>336</td>\n",
       "    </tr>\n",
       "    <tr>\n",
       "      <th>6</th>\n",
       "      <td>3.5</td>\n",
       "      <td>486</td>\n",
       "    </tr>\n",
       "    <tr>\n",
       "      <th>7</th>\n",
       "      <td>4.0</td>\n",
       "      <td>501</td>\n",
       "    </tr>\n",
       "    <tr>\n",
       "      <th>8</th>\n",
       "      <td>4.5</td>\n",
       "      <td>402</td>\n",
       "    </tr>\n",
       "    <tr>\n",
       "      <th>9</th>\n",
       "      <td>5.0</td>\n",
       "      <td>179</td>\n",
       "    </tr>\n",
       "    <tr>\n",
       "      <th>10</th>\n",
       "      <td>5.5</td>\n",
       "      <td>128</td>\n",
       "    </tr>\n",
       "    <tr>\n",
       "      <th>11</th>\n",
       "      <td>6.0</td>\n",
       "      <td>37</td>\n",
       "    </tr>\n",
       "  </tbody>\n",
       "</table>\n",
       "</div>"
      ],
      "text/plain": [
       "    score  count\n",
       "0     0.5      5\n",
       "1     1.0     35\n",
       "2     1.5     69\n",
       "3     2.0     92\n",
       "4     2.5    201\n",
       "5     3.0    336\n",
       "6     3.5    486\n",
       "7     4.0    501\n",
       "8     4.5    402\n",
       "9     5.0    179\n",
       "10    5.5    128\n",
       "11    6.0     37"
      ]
     },
     "execution_count": 19,
     "metadata": {},
     "output_type": "execute_result"
    }
   ],
   "source": [
    "grade_counts"
   ]
  },
  {
   "cell_type": "code",
   "execution_count": 53,
   "metadata": {},
   "outputs": [
    {
     "data": {
      "text/html": [
       "<div>\n",
       "<style scoped>\n",
       "    .dataframe tbody tr th:only-of-type {\n",
       "        vertical-align: middle;\n",
       "    }\n",
       "\n",
       "    .dataframe tbody tr th {\n",
       "        vertical-align: top;\n",
       "    }\n",
       "\n",
       "    .dataframe thead th {\n",
       "        text-align: right;\n",
       "    }\n",
       "</style>\n",
       "<table border=\"1\" class=\"dataframe\">\n",
       "  <thead>\n",
       "    <tr style=\"text-align: right;\">\n",
       "      <th></th>\n",
       "      <th>score</th>\n",
       "      <th>count</th>\n",
       "    </tr>\n",
       "  </thead>\n",
       "  <tbody>\n",
       "    <tr>\n",
       "      <th>count</th>\n",
       "      <td>12.000000</td>\n",
       "      <td>12.000000</td>\n",
       "    </tr>\n",
       "    <tr>\n",
       "      <th>mean</th>\n",
       "      <td>3.250000</td>\n",
       "      <td>205.916667</td>\n",
       "    </tr>\n",
       "    <tr>\n",
       "      <th>std</th>\n",
       "      <td>1.802776</td>\n",
       "      <td>180.289393</td>\n",
       "    </tr>\n",
       "    <tr>\n",
       "      <th>min</th>\n",
       "      <td>0.500000</td>\n",
       "      <td>5.000000</td>\n",
       "    </tr>\n",
       "    <tr>\n",
       "      <th>25%</th>\n",
       "      <td>1.875000</td>\n",
       "      <td>61.000000</td>\n",
       "    </tr>\n",
       "    <tr>\n",
       "      <th>50%</th>\n",
       "      <td>3.250000</td>\n",
       "      <td>153.500000</td>\n",
       "    </tr>\n",
       "    <tr>\n",
       "      <th>75%</th>\n",
       "      <td>4.625000</td>\n",
       "      <td>352.500000</td>\n",
       "    </tr>\n",
       "    <tr>\n",
       "      <th>max</th>\n",
       "      <td>6.000000</td>\n",
       "      <td>501.000000</td>\n",
       "    </tr>\n",
       "  </tbody>\n",
       "</table>\n",
       "</div>"
      ],
      "text/plain": [
       "           score       count\n",
       "count  12.000000   12.000000\n",
       "mean    3.250000  205.916667\n",
       "std     1.802776  180.289393\n",
       "min     0.500000    5.000000\n",
       "25%     1.875000   61.000000\n",
       "50%     3.250000  153.500000\n",
       "75%     4.625000  352.500000\n",
       "max     6.000000  501.000000"
      ]
     },
     "execution_count": 53,
     "metadata": {},
     "output_type": "execute_result"
    }
   ],
   "source": [
    "grade_counts.describe()"
   ]
  },
  {
   "cell_type": "code",
   "execution_count": 59,
   "metadata": {},
   "outputs": [
    {
     "data": {
      "text/plain": [
       "1.875"
      ]
     },
     "execution_count": 59,
     "metadata": {},
     "output_type": "execute_result"
    }
   ],
   "source": [
    "grade_counts['score'].quantile(.25)"
   ]
  },
  {
   "cell_type": "code",
   "execution_count": 60,
   "metadata": {},
   "outputs": [
    {
     "data": {
      "text/plain": [
       "4.625"
      ]
     },
     "execution_count": 60,
     "metadata": {},
     "output_type": "execute_result"
    }
   ],
   "source": [
    "grade_counts['score'].quantile(.75)"
   ]
  },
  {
   "cell_type": "code",
   "execution_count": 56,
   "metadata": {},
   "outputs": [
    {
     "data": {
      "text/plain": [
       "617.75"
      ]
     },
     "execution_count": 56,
     "metadata": {},
     "output_type": "execute_result"
    }
   ],
   "source": [
    "grade_counts['count'].sum()/4"
   ]
  },
  {
   "cell_type": "code",
   "execution_count": 63,
   "metadata": {},
   "outputs": [
    {
     "data": {
      "text/plain": [
       "1853.25"
      ]
     },
     "execution_count": 63,
     "metadata": {},
     "output_type": "execute_result"
    }
   ],
   "source": [
    "grade_counts['count'].sum() - 617.75"
   ]
  },
  {
   "cell_type": "code",
   "execution_count": 57,
   "metadata": {},
   "outputs": [],
   "source": [
    "grade_counts[\"running_total\"] = grade_counts['count'].cumsum()"
   ]
  },
  {
   "cell_type": "code",
   "execution_count": 58,
   "metadata": {},
   "outputs": [
    {
     "data": {
      "text/html": [
       "<div>\n",
       "<style scoped>\n",
       "    .dataframe tbody tr th:only-of-type {\n",
       "        vertical-align: middle;\n",
       "    }\n",
       "\n",
       "    .dataframe tbody tr th {\n",
       "        vertical-align: top;\n",
       "    }\n",
       "\n",
       "    .dataframe thead th {\n",
       "        text-align: right;\n",
       "    }\n",
       "</style>\n",
       "<table border=\"1\" class=\"dataframe\">\n",
       "  <thead>\n",
       "    <tr style=\"text-align: right;\">\n",
       "      <th></th>\n",
       "      <th>score</th>\n",
       "      <th>count</th>\n",
       "      <th>running_total</th>\n",
       "    </tr>\n",
       "  </thead>\n",
       "  <tbody>\n",
       "    <tr>\n",
       "      <th>0</th>\n",
       "      <td>0.5</td>\n",
       "      <td>5</td>\n",
       "      <td>5</td>\n",
       "    </tr>\n",
       "    <tr>\n",
       "      <th>1</th>\n",
       "      <td>1.0</td>\n",
       "      <td>35</td>\n",
       "      <td>40</td>\n",
       "    </tr>\n",
       "    <tr>\n",
       "      <th>2</th>\n",
       "      <td>1.5</td>\n",
       "      <td>69</td>\n",
       "      <td>109</td>\n",
       "    </tr>\n",
       "    <tr>\n",
       "      <th>3</th>\n",
       "      <td>2.0</td>\n",
       "      <td>92</td>\n",
       "      <td>201</td>\n",
       "    </tr>\n",
       "    <tr>\n",
       "      <th>4</th>\n",
       "      <td>2.5</td>\n",
       "      <td>201</td>\n",
       "      <td>402</td>\n",
       "    </tr>\n",
       "    <tr>\n",
       "      <th>5</th>\n",
       "      <td>3.0</td>\n",
       "      <td>336</td>\n",
       "      <td>738</td>\n",
       "    </tr>\n",
       "    <tr>\n",
       "      <th>6</th>\n",
       "      <td>3.5</td>\n",
       "      <td>486</td>\n",
       "      <td>1224</td>\n",
       "    </tr>\n",
       "    <tr>\n",
       "      <th>7</th>\n",
       "      <td>4.0</td>\n",
       "      <td>501</td>\n",
       "      <td>1725</td>\n",
       "    </tr>\n",
       "    <tr>\n",
       "      <th>8</th>\n",
       "      <td>4.5</td>\n",
       "      <td>402</td>\n",
       "      <td>2127</td>\n",
       "    </tr>\n",
       "    <tr>\n",
       "      <th>9</th>\n",
       "      <td>5.0</td>\n",
       "      <td>179</td>\n",
       "      <td>2306</td>\n",
       "    </tr>\n",
       "    <tr>\n",
       "      <th>10</th>\n",
       "      <td>5.5</td>\n",
       "      <td>128</td>\n",
       "      <td>2434</td>\n",
       "    </tr>\n",
       "    <tr>\n",
       "      <th>11</th>\n",
       "      <td>6.0</td>\n",
       "      <td>37</td>\n",
       "      <td>2471</td>\n",
       "    </tr>\n",
       "  </tbody>\n",
       "</table>\n",
       "</div>"
      ],
      "text/plain": [
       "    score  count  running_total\n",
       "0     0.5      5              5\n",
       "1     1.0     35             40\n",
       "2     1.5     69            109\n",
       "3     2.0     92            201\n",
       "4     2.5    201            402\n",
       "5     3.0    336            738\n",
       "6     3.5    486           1224\n",
       "7     4.0    501           1725\n",
       "8     4.5    402           2127\n",
       "9     5.0    179           2306\n",
       "10    5.5    128           2434\n",
       "11    6.0     37           2471"
      ]
     },
     "execution_count": 58,
     "metadata": {},
     "output_type": "execute_result"
    }
   ],
   "source": [
    "grade_counts"
   ]
  },
  {
   "cell_type": "code",
   "execution_count": 50,
   "metadata": {},
   "outputs": [
    {
     "data": {
      "text/plain": [
       "746"
      ]
     },
     "execution_count": 50,
     "metadata": {},
     "output_type": "execute_result"
    }
   ],
   "source": [
    "grade_counts.loc[grade_counts[\"score\"] >= 4.5, 'count'].sum()"
   ]
  },
  {
   "cell_type": "code",
   "execution_count": 49,
   "metadata": {},
   "outputs": [
    {
     "data": {
      "text/plain": [
       "201"
      ]
     },
     "execution_count": 49,
     "metadata": {},
     "output_type": "execute_result"
    }
   ],
   "source": [
    "grade_counts.loc[grade_counts[\"score\"] <= 2, 'count'].sum()"
   ]
  },
  {
   "cell_type": "code",
   "execution_count": 70,
   "metadata": {},
   "outputs": [
    {
     "data": {
      "text/plain": [
       "1.875"
      ]
     },
     "execution_count": 70,
     "metadata": {},
     "output_type": "execute_result"
    }
   ],
   "source": [
    "grade_counts['score'].quantile(.25)"
   ]
  },
  {
   "cell_type": "code",
   "execution_count": 74,
   "metadata": {},
   "outputs": [
    {
     "data": {
      "text/plain": [
       "178.0"
      ]
     },
     "execution_count": 74,
     "metadata": {},
     "output_type": "execute_result"
    }
   ],
   "source": [
    "grade_counts['running_total'].quantile(.25)"
   ]
  },
  {
   "cell_type": "code",
   "execution_count": 76,
   "metadata": {},
   "outputs": [],
   "source": [
    "cust_col = ['blue' if grades['score'].quantile(.25) <= score <= grades['score'].quantile(.75) \\\n",
    "            else 'lightgray' for score in grade_counts['score']]"
   ]
  },
  {
   "cell_type": "code",
   "execution_count": 77,
   "metadata": {},
   "outputs": [
    {
     "data": {
      "image/png": "[encoded data removed]",
      "text/plain": [
       "<Figure size 640x480 with 1 Axes>"
      ]
     },
     "metadata": {},
     "output_type": "display_data"
    }
   ],
   "source": [
    "sns.barplot(data=grade_counts, x='score', y='count', palette=cust_col);"
   ]
  },
  {
   "cell_type": "code",
   "execution_count": 40,
   "metadata": {},
   "outputs": [
    {
     "data": {
      "image/png": "[encoded data removed]",
      "text/plain": [
       "<Figure size 1200x400 with 1 Axes>"
      ]
     },
     "metadata": {},
     "output_type": "display_data"
    }
   ],
   "source": [
    "f, ax = plt.subplots(figsize=(12, 4))\n",
    "\n",
    "# purely aesthetic -> removes right hand spine of the chart, leaving a borderless white space\n",
    "sns.despine()\n",
    "\n",
    "# countplot shows the counts of occurences within a categorical feature, so given that these scores are discrete and\n",
    "# not continuous, the countplot might be preferable to the histplot, however as shown above, i tidied it up by \n",
    "# tailoring the number of bins to = 12, the same number of discrete score values\n",
    "ax = sns.countplot(data=grades,\n",
    "                   x=\"score\", palette='rocket')\n",
    "\n",
    "ax.set_title(\"Distribution of scores\");"
   ]
  },
  {
   "cell_type": "markdown",
   "metadata": {},
   "source": [
    "### Begin Group-By transformations\n",
    "'id' will be the value we 'groupby' to create a new data frame"
   ]
  },
  {
   "cell_type": "code",
   "execution_count": 61,
   "metadata": {},
   "outputs": [
    {
     "name": "stdout",
     "output_type": "stream",
     "text": [
      "<class 'pandas.core.frame.DataFrame'>\n",
      "RangeIndex: 8405898 entries, 0 to 8405897\n",
      "Data columns (total 11 columns):\n",
      " #   Column           Dtype \n",
      "---  ------           ----- \n",
      " 0   id               object\n",
      " 1   event_id         int64 \n",
      " 2   down_time        int64 \n",
      " 3   up_time          int64 \n",
      " 4   action_time      int64 \n",
      " 5   activity         object\n",
      " 6   down_event       object\n",
      " 7   up_event         object\n",
      " 8   text_change      object\n",
      " 9   cursor_position  int64 \n",
      " 10  word_count       int64 \n",
      "dtypes: int64(6), object(5)\n",
      "memory usage: 705.5+ MB\n"
     ]
    }
   ],
   "source": [
    "df.info()"
   ]
  },
  {
   "cell_type": "code",
   "execution_count": 59,
   "metadata": {},
   "outputs": [
    {
     "data": {
      "text/plain": [
       "Index(['id', 'event_id', 'down_time', 'up_time', 'action_time', 'activity',\n",
       "       'down_event', 'up_event', 'text_change', 'cursor_position',\n",
       "       'word_count'],\n",
       "      dtype='object')"
      ]
     },
     "execution_count": 59,
     "metadata": {},
     "output_type": "execute_result"
    }
   ],
   "source": [
    "df.columns"
   ]
  },
  {
   "cell_type": "code",
   "execution_count": 69,
   "metadata": {},
   "outputs": [
    {
     "data": {
      "text/plain": [
       "30.03128333333333"
      ]
     },
     "execution_count": 69,
     "metadata": {},
     "output_type": "execute_result"
    }
   ],
   "source": [
    "df.loc[df['id'] == '001519c8', 'down_time'].max()/1000/60"
   ]
  },
  {
   "cell_type": "code",
   "execution_count": 72,
   "metadata": {},
   "outputs": [
    {
     "data": {
      "text/html": [
       "<div>\n",
       "<style scoped>\n",
       "    .dataframe tbody tr th:only-of-type {\n",
       "        vertical-align: middle;\n",
       "    }\n",
       "\n",
       "    .dataframe tbody tr th {\n",
       "        vertical-align: top;\n",
       "    }\n",
       "\n",
       "    .dataframe thead tr th {\n",
       "        text-align: left;\n",
       "    }\n",
       "\n",
       "    .dataframe thead tr:last-of-type th {\n",
       "        text-align: right;\n",
       "    }\n",
       "</style>\n",
       "<table border=\"1\" class=\"dataframe\">\n",
       "  <thead>\n",
       "    <tr>\n",
       "      <th></th>\n",
       "      <th colspan=\"6\" halign=\"left\">max</th>\n",
       "    </tr>\n",
       "    <tr>\n",
       "      <th></th>\n",
       "      <th>action_time</th>\n",
       "      <th>cursor_position</th>\n",
       "      <th>down_time</th>\n",
       "      <th>event_id</th>\n",
       "      <th>up_time</th>\n",
       "      <th>word_count</th>\n",
       "    </tr>\n",
       "    <tr>\n",
       "      <th>id</th>\n",
       "      <th></th>\n",
       "      <th></th>\n",
       "      <th></th>\n",
       "      <th></th>\n",
       "      <th></th>\n",
       "      <th></th>\n",
       "    </tr>\n",
       "  </thead>\n",
       "  <tbody>\n",
       "    <tr>\n",
       "      <th>001519c8</th>\n",
       "      <td>2259</td>\n",
       "      <td>1539</td>\n",
       "      <td>1801877</td>\n",
       "      <td>2557</td>\n",
       "      <td>1801969</td>\n",
       "      <td>256</td>\n",
       "    </tr>\n",
       "    <tr>\n",
       "      <th>0022f953</th>\n",
       "      <td>1758</td>\n",
       "      <td>1676</td>\n",
       "      <td>1788842</td>\n",
       "      <td>2454</td>\n",
       "      <td>1788969</td>\n",
       "      <td>323</td>\n",
       "    </tr>\n",
       "    <tr>\n",
       "      <th>0042269b</th>\n",
       "      <td>3005</td>\n",
       "      <td>2291</td>\n",
       "      <td>1771219</td>\n",
       "      <td>4136</td>\n",
       "      <td>1771669</td>\n",
       "      <td>404</td>\n",
       "    </tr>\n",
       "    <tr>\n",
       "      <th>0059420b</th>\n",
       "      <td>806</td>\n",
       "      <td>1047</td>\n",
       "      <td>1404394</td>\n",
       "      <td>1556</td>\n",
       "      <td>1404469</td>\n",
       "      <td>206</td>\n",
       "    </tr>\n",
       "    <tr>\n",
       "      <th>0075873a</th>\n",
       "      <td>701</td>\n",
       "      <td>1402</td>\n",
       "      <td>1662390</td>\n",
       "      <td>2531</td>\n",
       "      <td>1662472</td>\n",
       "      <td>252</td>\n",
       "    </tr>\n",
       "    <tr>\n",
       "      <th>...</th>\n",
       "      <td>...</td>\n",
       "      <td>...</td>\n",
       "      <td>...</td>\n",
       "      <td>...</td>\n",
       "      <td>...</td>\n",
       "      <td>...</td>\n",
       "    </tr>\n",
       "    <tr>\n",
       "      <th>ffb8c745</th>\n",
       "      <td>3323</td>\n",
       "      <td>1634</td>\n",
       "      <td>1791581</td>\n",
       "      <td>4739</td>\n",
       "      <td>1791649</td>\n",
       "      <td>461</td>\n",
       "    </tr>\n",
       "    <tr>\n",
       "      <th>ffbef7e5</th>\n",
       "      <td>1144</td>\n",
       "      <td>1877</td>\n",
       "      <td>1799124</td>\n",
       "      <td>2604</td>\n",
       "      <td>1799174</td>\n",
       "      <td>438</td>\n",
       "    </tr>\n",
       "    <tr>\n",
       "      <th>ffccd6fd</th>\n",
       "      <td>564</td>\n",
       "      <td>2761</td>\n",
       "      <td>1959273</td>\n",
       "      <td>3063</td>\n",
       "      <td>1959363</td>\n",
       "      <td>201</td>\n",
       "    </tr>\n",
       "    <tr>\n",
       "      <th>ffec5b38</th>\n",
       "      <td>1388</td>\n",
       "      <td>2133</td>\n",
       "      <td>1508335</td>\n",
       "      <td>3242</td>\n",
       "      <td>1508504</td>\n",
       "      <td>413</td>\n",
       "    </tr>\n",
       "    <tr>\n",
       "      <th>fff05981</th>\n",
       "      <td>1915</td>\n",
       "      <td>1496</td>\n",
       "      <td>2070065</td>\n",
       "      <td>3619</td>\n",
       "      <td>2070133</td>\n",
       "      <td>241</td>\n",
       "    </tr>\n",
       "  </tbody>\n",
       "</table>\n",
       "<p>2471 rows × 6 columns</p>\n",
       "</div>"
      ],
      "text/plain": [
       "                 max                                                       \n",
       "         action_time cursor_position down_time event_id  up_time word_count\n",
       "id                                                                         \n",
       "001519c8        2259            1539   1801877     2557  1801969        256\n",
       "0022f953        1758            1676   1788842     2454  1788969        323\n",
       "0042269b        3005            2291   1771219     4136  1771669        404\n",
       "0059420b         806            1047   1404394     1556  1404469        206\n",
       "0075873a         701            1402   1662390     2531  1662472        252\n",
       "...              ...             ...       ...      ...      ...        ...\n",
       "ffb8c745        3323            1634   1791581     4739  1791649        461\n",
       "ffbef7e5        1144            1877   1799124     2604  1799174        438\n",
       "ffccd6fd         564            2761   1959273     3063  1959363        201\n",
       "ffec5b38        1388            2133   1508335     3242  1508504        413\n",
       "fff05981        1915            1496   2070065     3619  2070133        241\n",
       "\n",
       "[2471 rows x 6 columns]"
      ]
     },
     "execution_count": 72,
     "metadata": {},
     "output_type": "execute_result"
    }
   ],
   "source": [
    "pivot = df.pivot_table(values=['event_id', 'down_time', 'up_time', 'action_time','cursor_position',\n",
    "       'word_count'], index='id', aggfunc=['max'])\n",
    "pivot"
   ]
  },
  {
   "cell_type": "code",
   "execution_count": 83,
   "metadata": {},
   "outputs": [],
   "source": [
    "pivot.columns = pivot.columns.droplevel(level=0)"
   ]
  },
  {
   "cell_type": "code",
   "execution_count": 85,
   "metadata": {},
   "outputs": [
    {
     "data": {
      "text/html": [
       "<div>\n",
       "<style scoped>\n",
       "    .dataframe tbody tr th:only-of-type {\n",
       "        vertical-align: middle;\n",
       "    }\n",
       "\n",
       "    .dataframe tbody tr th {\n",
       "        vertical-align: top;\n",
       "    }\n",
       "\n",
       "    .dataframe thead th {\n",
       "        text-align: right;\n",
       "    }\n",
       "</style>\n",
       "<table border=\"1\" class=\"dataframe\">\n",
       "  <thead>\n",
       "    <tr style=\"text-align: right;\">\n",
       "      <th></th>\n",
       "      <th>action_time</th>\n",
       "      <th>cursor_position</th>\n",
       "      <th>down_time</th>\n",
       "      <th>event_id</th>\n",
       "      <th>up_time</th>\n",
       "      <th>word_count</th>\n",
       "    </tr>\n",
       "  </thead>\n",
       "  <tbody>\n",
       "    <tr>\n",
       "      <th>count</th>\n",
       "      <td>2471.000000</td>\n",
       "      <td>2471.000000</td>\n",
       "      <td>2.471000e+03</td>\n",
       "      <td>2471.000000</td>\n",
       "      <td>2.471000e+03</td>\n",
       "      <td>2471.000000</td>\n",
       "    </tr>\n",
       "    <tr>\n",
       "      <th>mean</th>\n",
       "      <td>2989.163497</td>\n",
       "      <td>2232.188183</td>\n",
       "      <td>1.769341e+06</td>\n",
       "      <td>3401.820316</td>\n",
       "      <td>1.769537e+06</td>\n",
       "      <td>389.966410</td>\n",
       "    </tr>\n",
       "    <tr>\n",
       "      <th>std</th>\n",
       "      <td>13084.145614</td>\n",
       "      <td>969.507385</td>\n",
       "      <td>2.760367e+05</td>\n",
       "      <td>1578.850387</td>\n",
       "      <td>2.760283e+05</td>\n",
       "      <td>172.455317</td>\n",
       "    </tr>\n",
       "    <tr>\n",
       "      <th>min</th>\n",
       "      <td>153.000000</td>\n",
       "      <td>207.000000</td>\n",
       "      <td>2.294520e+05</td>\n",
       "      <td>262.000000</td>\n",
       "      <td>2.295480e+05</td>\n",
       "      <td>35.000000</td>\n",
       "    </tr>\n",
       "    <tr>\n",
       "      <th>25%</th>\n",
       "      <td>515.000000</td>\n",
       "      <td>1487.500000</td>\n",
       "      <td>1.754688e+06</td>\n",
       "      <td>2193.500000</td>\n",
       "      <td>1.754901e+06</td>\n",
       "      <td>255.000000</td>\n",
       "    </tr>\n",
       "    <tr>\n",
       "      <th>50%</th>\n",
       "      <td>1278.000000</td>\n",
       "      <td>1993.000000</td>\n",
       "      <td>1.792237e+06</td>\n",
       "      <td>3082.000000</td>\n",
       "      <td>1.792315e+06</td>\n",
       "      <td>351.000000</td>\n",
       "    </tr>\n",
       "    <tr>\n",
       "      <th>75%</th>\n",
       "      <td>2648.500000</td>\n",
       "      <td>2758.500000</td>\n",
       "      <td>1.807522e+06</td>\n",
       "      <td>4301.000000</td>\n",
       "      <td>1.807774e+06</td>\n",
       "      <td>480.000000</td>\n",
       "    </tr>\n",
       "    <tr>\n",
       "      <th>max</th>\n",
       "      <td>447470.000000</td>\n",
       "      <td>7802.000000</td>\n",
       "      <td>8.313630e+06</td>\n",
       "      <td>12876.000000</td>\n",
       "      <td>8.313707e+06</td>\n",
       "      <td>1326.000000</td>\n",
       "    </tr>\n",
       "  </tbody>\n",
       "</table>\n",
       "</div>"
      ],
      "text/plain": [
       "         action_time  cursor_position     down_time      event_id  \\\n",
       "count    2471.000000      2471.000000  2.471000e+03   2471.000000   \n",
       "mean     2989.163497      2232.188183  1.769341e+06   3401.820316   \n",
       "std     13084.145614       969.507385  2.760367e+05   1578.850387   \n",
       "min       153.000000       207.000000  2.294520e+05    262.000000   \n",
       "25%       515.000000      1487.500000  1.754688e+06   2193.500000   \n",
       "50%      1278.000000      1993.000000  1.792237e+06   3082.000000   \n",
       "75%      2648.500000      2758.500000  1.807522e+06   4301.000000   \n",
       "max    447470.000000      7802.000000  8.313630e+06  12876.000000   \n",
       "\n",
       "            up_time   word_count  \n",
       "count  2.471000e+03  2471.000000  \n",
       "mean   1.769537e+06   389.966410  \n",
       "std    2.760283e+05   172.455317  \n",
       "min    2.295480e+05    35.000000  \n",
       "25%    1.754901e+06   255.000000  \n",
       "50%    1.792315e+06   351.000000  \n",
       "75%    1.807774e+06   480.000000  \n",
       "max    8.313707e+06  1326.000000  "
      ]
     },
     "execution_count": 85,
     "metadata": {},
     "output_type": "execute_result"
    }
   ],
   "source": [
    "pivot.describe()"
   ]
  },
  {
   "cell_type": "code",
   "execution_count": 92,
   "metadata": {},
   "outputs": [
    {
     "data": {
      "text/html": [
       "<div>\n",
       "<style scoped>\n",
       "    .dataframe tbody tr th:only-of-type {\n",
       "        vertical-align: middle;\n",
       "    }\n",
       "\n",
       "    .dataframe tbody tr th {\n",
       "        vertical-align: top;\n",
       "    }\n",
       "\n",
       "    .dataframe thead th {\n",
       "        text-align: right;\n",
       "    }\n",
       "</style>\n",
       "<table border=\"1\" class=\"dataframe\">\n",
       "  <thead>\n",
       "    <tr style=\"text-align: right;\">\n",
       "      <th></th>\n",
       "      <th>action_time</th>\n",
       "      <th>cursor_position</th>\n",
       "      <th>down_time</th>\n",
       "      <th>event_id</th>\n",
       "      <th>up_time</th>\n",
       "      <th>word_count</th>\n",
       "    </tr>\n",
       "    <tr>\n",
       "      <th>id</th>\n",
       "      <th></th>\n",
       "      <th></th>\n",
       "      <th></th>\n",
       "      <th></th>\n",
       "      <th></th>\n",
       "      <th></th>\n",
       "    </tr>\n",
       "  </thead>\n",
       "  <tbody>\n",
       "    <tr>\n",
       "      <th>0ad15907</th>\n",
       "      <td>691</td>\n",
       "      <td>1681</td>\n",
       "      <td>1776290</td>\n",
       "      <td>1959</td>\n",
       "      <td>1776981</td>\n",
       "      <td>306</td>\n",
       "    </tr>\n",
       "    <tr>\n",
       "      <th>0ad30c56</th>\n",
       "      <td>3357</td>\n",
       "      <td>3010</td>\n",
       "      <td>1761927</td>\n",
       "      <td>5622</td>\n",
       "      <td>1765284</td>\n",
       "      <td>554</td>\n",
       "    </tr>\n",
       "    <tr>\n",
       "      <th>0fa3f386</th>\n",
       "      <td>2571</td>\n",
       "      <td>1522</td>\n",
       "      <td>1803458</td>\n",
       "      <td>1840</td>\n",
       "      <td>1806029</td>\n",
       "      <td>235</td>\n",
       "    </tr>\n",
       "    <tr>\n",
       "      <th>10989e65</th>\n",
       "      <td>1972</td>\n",
       "      <td>2058</td>\n",
       "      <td>1750552</td>\n",
       "      <td>3207</td>\n",
       "      <td>1752524</td>\n",
       "      <td>389</td>\n",
       "    </tr>\n",
       "    <tr>\n",
       "      <th>2dc069c3</th>\n",
       "      <td>51518</td>\n",
       "      <td>2756</td>\n",
       "      <td>1751011</td>\n",
       "      <td>3964</td>\n",
       "      <td>1802529</td>\n",
       "      <td>519</td>\n",
       "    </tr>\n",
       "    <tr>\n",
       "      <th>315bdafd</th>\n",
       "      <td>5157</td>\n",
       "      <td>876</td>\n",
       "      <td>1205278</td>\n",
       "      <td>1379</td>\n",
       "      <td>1210435</td>\n",
       "      <td>201</td>\n",
       "    </tr>\n",
       "    <tr>\n",
       "      <th>4c973b64</th>\n",
       "      <td>6772</td>\n",
       "      <td>3915</td>\n",
       "      <td>1793944</td>\n",
       "      <td>5766</td>\n",
       "      <td>1800716</td>\n",
       "      <td>676</td>\n",
       "    </tr>\n",
       "    <tr>\n",
       "      <th>56586ecf</th>\n",
       "      <td>34320</td>\n",
       "      <td>2736</td>\n",
       "      <td>1634575</td>\n",
       "      <td>3168</td>\n",
       "      <td>1668895</td>\n",
       "      <td>485</td>\n",
       "    </tr>\n",
       "    <tr>\n",
       "      <th>610914b9</th>\n",
       "      <td>1730</td>\n",
       "      <td>1878</td>\n",
       "      <td>1781749</td>\n",
       "      <td>2445</td>\n",
       "      <td>1783479</td>\n",
       "      <td>318</td>\n",
       "    </tr>\n",
       "    <tr>\n",
       "      <th>62bf4107</th>\n",
       "      <td>976</td>\n",
       "      <td>4416</td>\n",
       "      <td>1744845</td>\n",
       "      <td>5720</td>\n",
       "      <td>1745821</td>\n",
       "      <td>742</td>\n",
       "    </tr>\n",
       "    <tr>\n",
       "      <th>6e701071</th>\n",
       "      <td>1585</td>\n",
       "      <td>1468</td>\n",
       "      <td>428631</td>\n",
       "      <td>1685</td>\n",
       "      <td>430216</td>\n",
       "      <td>237</td>\n",
       "    </tr>\n",
       "    <tr>\n",
       "      <th>83b16bab</th>\n",
       "      <td>7858</td>\n",
       "      <td>3446</td>\n",
       "      <td>1802822</td>\n",
       "      <td>5021</td>\n",
       "      <td>1810680</td>\n",
       "      <td>629</td>\n",
       "    </tr>\n",
       "    <tr>\n",
       "      <th>8bd44fe3</th>\n",
       "      <td>2186</td>\n",
       "      <td>2005</td>\n",
       "      <td>1795723</td>\n",
       "      <td>4359</td>\n",
       "      <td>1797909</td>\n",
       "      <td>340</td>\n",
       "    </tr>\n",
       "    <tr>\n",
       "      <th>ac71d377</th>\n",
       "      <td>5469</td>\n",
       "      <td>4934</td>\n",
       "      <td>1802834</td>\n",
       "      <td>7407</td>\n",
       "      <td>1808303</td>\n",
       "      <td>849</td>\n",
       "    </tr>\n",
       "    <tr>\n",
       "      <th>ae2e45f2</th>\n",
       "      <td>3195</td>\n",
       "      <td>2462</td>\n",
       "      <td>1332871</td>\n",
       "      <td>3330</td>\n",
       "      <td>1336066</td>\n",
       "      <td>429</td>\n",
       "    </tr>\n",
       "    <tr>\n",
       "      <th>b4ce3f66</th>\n",
       "      <td>1085</td>\n",
       "      <td>3269</td>\n",
       "      <td>1798573</td>\n",
       "      <td>5135</td>\n",
       "      <td>1799658</td>\n",
       "      <td>568</td>\n",
       "    </tr>\n",
       "    <tr>\n",
       "      <th>bfba4fa3</th>\n",
       "      <td>1099</td>\n",
       "      <td>3994</td>\n",
       "      <td>1797598</td>\n",
       "      <td>5074</td>\n",
       "      <td>1798697</td>\n",
       "      <td>791</td>\n",
       "    </tr>\n",
       "    <tr>\n",
       "      <th>d116c7f9</th>\n",
       "      <td>1396</td>\n",
       "      <td>3352</td>\n",
       "      <td>1774642</td>\n",
       "      <td>5589</td>\n",
       "      <td>1776038</td>\n",
       "      <td>778</td>\n",
       "    </tr>\n",
       "    <tr>\n",
       "      <th>f44f11f1</th>\n",
       "      <td>905</td>\n",
       "      <td>2920</td>\n",
       "      <td>1797982</td>\n",
       "      <td>4835</td>\n",
       "      <td>1798887</td>\n",
       "      <td>509</td>\n",
       "    </tr>\n",
       "    <tr>\n",
       "      <th>fae5bded</th>\n",
       "      <td>1276</td>\n",
       "      <td>6049</td>\n",
       "      <td>1864346</td>\n",
       "      <td>7855</td>\n",
       "      <td>1865622</td>\n",
       "      <td>1052</td>\n",
       "    </tr>\n",
       "    <tr>\n",
       "      <th>fe746252</th>\n",
       "      <td>4683</td>\n",
       "      <td>2053</td>\n",
       "      <td>1741878</td>\n",
       "      <td>2557</td>\n",
       "      <td>1746561</td>\n",
       "      <td>361</td>\n",
       "    </tr>\n",
       "  </tbody>\n",
       "</table>\n",
       "</div>"
      ],
      "text/plain": [
       "          action_time  cursor_position  down_time  event_id  up_time  \\\n",
       "id                                                                     \n",
       "0ad15907          691             1681    1776290      1959  1776981   \n",
       "0ad30c56         3357             3010    1761927      5622  1765284   \n",
       "0fa3f386         2571             1522    1803458      1840  1806029   \n",
       "10989e65         1972             2058    1750552      3207  1752524   \n",
       "2dc069c3        51518             2756    1751011      3964  1802529   \n",
       "315bdafd         5157              876    1205278      1379  1210435   \n",
       "4c973b64         6772             3915    1793944      5766  1800716   \n",
       "56586ecf        34320             2736    1634575      3168  1668895   \n",
       "610914b9         1730             1878    1781749      2445  1783479   \n",
       "62bf4107          976             4416    1744845      5720  1745821   \n",
       "6e701071         1585             1468     428631      1685   430216   \n",
       "83b16bab         7858             3446    1802822      5021  1810680   \n",
       "8bd44fe3         2186             2005    1795723      4359  1797909   \n",
       "ac71d377         5469             4934    1802834      7407  1808303   \n",
       "ae2e45f2         3195             2462    1332871      3330  1336066   \n",
       "b4ce3f66         1085             3269    1798573      5135  1799658   \n",
       "bfba4fa3         1099             3994    1797598      5074  1798697   \n",
       "d116c7f9         1396             3352    1774642      5589  1776038   \n",
       "f44f11f1          905             2920    1797982      4835  1798887   \n",
       "fae5bded         1276             6049    1864346      7855  1865622   \n",
       "fe746252         4683             2053    1741878      2557  1746561   \n",
       "\n",
       "          word_count  \n",
       "id                    \n",
       "0ad15907         306  \n",
       "0ad30c56         554  \n",
       "0fa3f386         235  \n",
       "10989e65         389  \n",
       "2dc069c3         519  \n",
       "315bdafd         201  \n",
       "4c973b64         676  \n",
       "56586ecf         485  \n",
       "610914b9         318  \n",
       "62bf4107         742  \n",
       "6e701071         237  \n",
       "83b16bab         629  \n",
       "8bd44fe3         340  \n",
       "ac71d377         849  \n",
       "ae2e45f2         429  \n",
       "b4ce3f66         568  \n",
       "bfba4fa3         791  \n",
       "d116c7f9         778  \n",
       "f44f11f1         509  \n",
       "fae5bded        1052  \n",
       "fe746252         361  "
      ]
     },
     "execution_count": 92,
     "metadata": {},
     "output_type": "execute_result"
    }
   ],
   "source": [
    "# Just an interesting exploration of fact\n",
    "\n",
    "pivot[pivot['action_time'] == (abs(pivot[\"down_time\"] - pivot['up_time']))]"
   ]
  },
  {
   "cell_type": "markdown",
   "metadata": {},
   "source": [
    "<hr style=\"border: 4px solid GOLD\">"
   ]
  },
  {
   "cell_type": "markdown",
   "metadata": {},
   "source": [
    "# To-Dos:\n",
    "- cursor position - how do we make this meaningful?\n",
    "- 'down_event', 'up_event', 'text_change' - create counts of the different dummies/OHE values"
   ]
  },
  {
   "cell_type": "markdown",
   "metadata": {},
   "source": [
    "<hr style=\"border: 4px solid GOLD\">"
   ]
  },
  {
   "cell_type": "code",
   "execution_count": 98,
   "metadata": {},
   "outputs": [
    {
     "data": {
      "text/plain": [
       "array(['\\n ', 'qqqqqq => q',\n",
       "       'qqqqqqq qqq qqqq qqqq qqqq qq qqqqqqqq qqqqqqq  => q',\n",
       "       'qqqqqqq  => q', 'qqqqq qqq qqqq qq ',\n",
       "       'qqq qq qqq qqqqqqq qqqqqq qqqq qq  => q',\n",
       "       'qqq qqqqq qq qqqqqqqq qqqq qqq qqqqqqq qq qqqqq qqqqq qqqqqq => q',\n",
       "       'qqqqqqq, qqqq qqqqq qqqqqq qqq qqqq qqqq qqqq qqqq qqqq qqqqqqq qqqq qqq qq qqqqqq qqqq qqqq qqq qqqqqq qqqqqq qq qqq qqq qqqqqqqq qqqqq qqqq qqqq qqq ',\n",
       "       'qqq qqqqqq qq qqqqq qqqqqq  => q',\n",
       "       'qqqqqqqqq qqqqq qqqqq qqq qqqqq qq qqqqqqqqqq qqqq qqqqqqq qqqqqqqqq qqqqqqq, q => q',\n",
       "       '=', 'qq qq qqqqq qqqq qqqqqqqqq\\n',\n",
       "       'qqqqqqq qqqqqqqqq qqqq qqq qq qqqq qqq qqqqqqqqq => q',\n",
       "       'qqqqqqqqqqq  => =', 'qqqqqqqqqqq ', '/', 'qq => q', 'qqq => q',\n",
       "       'qqqqq => q', 'qqqq', '\\n => q', ':',\n",
       "       'qqqqq qq qq qqqqqqqqq - qq qqq qqqqqqqqqq - qq qqqqqq qqqq qqqqqqqq',\n",
       "       'qqqqqqq qq qqqq qqqqq qqqq qqqqq, qqqqqq qqqq qqqq => q',\n",
       "       'qqqqq qq qqqqq qqq qqqqqqqq qqqqqq qqq qqqqq, qqq qqqqqqqq qqqqqqq qq qqq qqqqqq qqqq qqqq qqqq qqqqq.\\n\\nqqq qqqqqqq, q qqqqq => q',\n",
       "       'qqqqqq => qqqq', 'qqqq => qq',\n",
       "       'qq => qqqqq qq qqqqq qqq qqqqqqqq qqqqqq qqq qqqqq, qqq qqqqqqqq qqqqqqq qq qqq qqqqqq qqqq qqqq qqqq qqqqq.\\n\\nqqq qqqqqqq, q qqqqq',\n",
       "       'qqqqq qq qqqqq qqq qqqqqqqq qqqqqq qqq qqqqq, qqq qqqqqqqq qqqqqqq qq qqq qqqqqq qqqq qqqq qqqq qqqqq.\\n\\nqqq qqqqqqq, q qqqqq => qqqqq qq qqqqq qqq qqqqqqqq qqqqqq qqq qqqqq, qqq qqqqqqqq qqqqqqq qq qqq qqqqqq qqqq qqqq qqqq qqqqq.\\n\\nqqq qqqqqqq, q qqq',\n",
       "       'q qqq => q', 'qqq qq qqqqq q qqq qq qq qqqq qqq qqqqqq',\n",
       "       'qqqqq qqqqqq q qqqq qqqq qqqqqqqq qqqq qqqqqqqqq qqqqq qqqqqqq qq qqqqq qqqqqqqq, qqqq qq qqq qqqqqq qqqq qqqqqqq qqq qqqqqqqqqq qqq qqqq qqq qqqqqqq qqqqq qqqqqq qq qqqqqq qq qqqqqqqqqqqq qqqqq qqqqqqqqqq qqqqqqqqq qq qqq qqqqqqq qqqqq. qq qqqq qqq, qqq qq qqqqq qq qqq qqqq qqqq qqq qqqqq qq qqqqq qqqqq qqqq qq qqq qqq. qqqq',\n",
       "       ' qqqq qq qqqq qqq qq qq qqqqqq qqqq', '[',\n",
       "       \"qqq qqqqqqqq qqqqqqqqqqq qqqqqqqq qqq q qqqqqq'q qqqqqq\",\n",
       "       'qqqqqqq,', '$', '(', ')', 'qq qqqqq qqq q => q', '+', '\\\\',\n",
       "       \"qqqqqq qqqqqqq qqqqqq qqq qq qqqqqqqqqq qqq qqqqq qqqqqqqqqqqqq, qq'q q qqqq. \",\n",
       "       ' qqq qqqqq',\n",
       "       'qqqqq qqqqq qqqqqq, qqqqq qq qqq qqqqqqqqq qqqqq qq qqqqqq qqq. ',\n",
       "       'qq qqqqqq qqqq,', '*', '&', 'qqqqqq qq => q',\n",
       "       \"qqq qqqqqqq qqqqq'q qqqqqq. qqq qqqqqqqqqq qqqq.  => q\",\n",
       "       'qqq qqqqqq qqq qqqq qqqqqqqqqqq qq qqq qqqqq qq qqqqqq qqqqqqq. ',\n",
       "       'qqqq => q', ' qqqqqq qqq qqq qqqqqqqq =>  ', \"qqq'q => q\",\n",
       "       'qqqqqq qqq qqqqqqqqqqqqq, qq ', 'qq qqqqqqq  => q', \"qqq' => q\",\n",
       "       ' qqqqqq qq =>  ', 'qqq.  => q', 'qqqqqqqqq qq  => q',\n",
       "       'qqqq q => q', 'qqq qq qqqqqqq qq qqqqqqq qq qqqq',\n",
       "       'qq qqqq qqqq qq qqq qqq qqqq => q', 'qqq qq qqqqqqq', 'qqq ',\n",
       "       ', qq  => ,',\n",
       "       'qqqqq qqqqq qqqqq qqqq qqq qqq qq qqqqqq qqqq qqqqqqqqq, ',\n",
       "       '\\nqqqq qqq qqqqq qqqq qq qqqq qqqqqq qq qqqqqqqq qqq qqqq qqqqq, qqq qqq qqqq qqqq qqqqqqq qqqqqq qq qqqqqqqqq qqqq qqqq qqqqq qqq qqqqq. qqq qqqqq qq qqq qqqqqqq qq qqqq qqqqqqqqq, ',\n",
       "       'qqqqqqqqqqq qqqq  => q', 'qqq q => q', 'qqq qqqqqq qq => q',\n",
       "       'qqq qqq qq qq qqqqqq qq qqqq => q', 'qqqqqqqqqq => q', '!',\n",
       "       'q qq qqqqqqq qqqq qqq qqq q qqq qqqqq qqqq q qqqqq qqqqq qqqq qqqqqq.',\n",
       "       'qq qqqqqq ', ', qq qqq qq', 'qqq qqq qqqq qq qqqqqqqqqqq  => q',\n",
       "       'qqqqqqq => q', ' qqqqq'], dtype=object)"
      ]
     },
     "execution_count": 98,
     "metadata": {},
     "output_type": "execute_result"
    }
   ],
   "source": [
    "df[\"text_change\"].unique()[20:100]"
   ]
  },
  {
   "cell_type": "code",
   "execution_count": 93,
   "metadata": {},
   "outputs": [
    {
     "data": {
      "text/html": [
       "<div>\n",
       "<style scoped>\n",
       "    .dataframe tbody tr th:only-of-type {\n",
       "        vertical-align: middle;\n",
       "    }\n",
       "\n",
       "    .dataframe tbody tr th {\n",
       "        vertical-align: top;\n",
       "    }\n",
       "\n",
       "    .dataframe thead th {\n",
       "        text-align: right;\n",
       "    }\n",
       "</style>\n",
       "<table border=\"1\" class=\"dataframe\">\n",
       "  <thead>\n",
       "    <tr style=\"text-align: right;\">\n",
       "      <th></th>\n",
       "      <th>down_event_!</th>\n",
       "      <th>down_event_\"</th>\n",
       "      <th>down_event_#</th>\n",
       "      <th>down_event_$</th>\n",
       "      <th>down_event_%</th>\n",
       "      <th>down_event_&amp;</th>\n",
       "      <th>down_event_'</th>\n",
       "      <th>down_event_(</th>\n",
       "      <th>down_event_)</th>\n",
       "      <th>down_event_*</th>\n",
       "      <th>...</th>\n",
       "      <th>text_change_</th>\n",
       "      <th>text_change_¡</th>\n",
       "      <th>text_change_·</th>\n",
       "      <th>text_change_¿</th>\n",
       "      <th>text_change_Â´</th>\n",
       "      <th>text_change_Ä±</th>\n",
       "      <th>text_change_Å</th>\n",
       "      <th>text_change_Ë</th>\n",
       "      <th>text_change_â</th>\n",
       "      <th>text_change_ä</th>\n",
       "    </tr>\n",
       "  </thead>\n",
       "  <tbody>\n",
       "    <tr>\n",
       "      <th>0</th>\n",
       "      <td>False</td>\n",
       "      <td>False</td>\n",
       "      <td>False</td>\n",
       "      <td>False</td>\n",
       "      <td>False</td>\n",
       "      <td>False</td>\n",
       "      <td>False</td>\n",
       "      <td>False</td>\n",
       "      <td>False</td>\n",
       "      <td>False</td>\n",
       "      <td>...</td>\n",
       "      <td>False</td>\n",
       "      <td>False</td>\n",
       "      <td>False</td>\n",
       "      <td>False</td>\n",
       "      <td>False</td>\n",
       "      <td>False</td>\n",
       "      <td>False</td>\n",
       "      <td>False</td>\n",
       "      <td>False</td>\n",
       "      <td>False</td>\n",
       "    </tr>\n",
       "    <tr>\n",
       "      <th>1</th>\n",
       "      <td>False</td>\n",
       "      <td>False</td>\n",
       "      <td>False</td>\n",
       "      <td>False</td>\n",
       "      <td>False</td>\n",
       "      <td>False</td>\n",
       "      <td>False</td>\n",
       "      <td>False</td>\n",
       "      <td>False</td>\n",
       "      <td>False</td>\n",
       "      <td>...</td>\n",
       "      <td>False</td>\n",
       "      <td>False</td>\n",
       "      <td>False</td>\n",
       "      <td>False</td>\n",
       "      <td>False</td>\n",
       "      <td>False</td>\n",
       "      <td>False</td>\n",
       "      <td>False</td>\n",
       "      <td>False</td>\n",
       "      <td>False</td>\n",
       "    </tr>\n",
       "    <tr>\n",
       "      <th>2</th>\n",
       "      <td>False</td>\n",
       "      <td>False</td>\n",
       "      <td>False</td>\n",
       "      <td>False</td>\n",
       "      <td>False</td>\n",
       "      <td>False</td>\n",
       "      <td>False</td>\n",
       "      <td>False</td>\n",
       "      <td>False</td>\n",
       "      <td>False</td>\n",
       "      <td>...</td>\n",
       "      <td>False</td>\n",
       "      <td>False</td>\n",
       "      <td>False</td>\n",
       "      <td>False</td>\n",
       "      <td>False</td>\n",
       "      <td>False</td>\n",
       "      <td>False</td>\n",
       "      <td>False</td>\n",
       "      <td>False</td>\n",
       "      <td>False</td>\n",
       "    </tr>\n",
       "    <tr>\n",
       "      <th>3</th>\n",
       "      <td>False</td>\n",
       "      <td>False</td>\n",
       "      <td>False</td>\n",
       "      <td>False</td>\n",
       "      <td>False</td>\n",
       "      <td>False</td>\n",
       "      <td>False</td>\n",
       "      <td>False</td>\n",
       "      <td>False</td>\n",
       "      <td>False</td>\n",
       "      <td>...</td>\n",
       "      <td>False</td>\n",
       "      <td>False</td>\n",
       "      <td>False</td>\n",
       "      <td>False</td>\n",
       "      <td>False</td>\n",
       "      <td>False</td>\n",
       "      <td>False</td>\n",
       "      <td>False</td>\n",
       "      <td>False</td>\n",
       "      <td>False</td>\n",
       "    </tr>\n",
       "    <tr>\n",
       "      <th>4</th>\n",
       "      <td>False</td>\n",
       "      <td>False</td>\n",
       "      <td>False</td>\n",
       "      <td>False</td>\n",
       "      <td>False</td>\n",
       "      <td>False</td>\n",
       "      <td>False</td>\n",
       "      <td>False</td>\n",
       "      <td>False</td>\n",
       "      <td>False</td>\n",
       "      <td>...</td>\n",
       "      <td>False</td>\n",
       "      <td>False</td>\n",
       "      <td>False</td>\n",
       "      <td>False</td>\n",
       "      <td>False</td>\n",
       "      <td>False</td>\n",
       "      <td>False</td>\n",
       "      <td>False</td>\n",
       "      <td>False</td>\n",
       "      <td>False</td>\n",
       "    </tr>\n",
       "    <tr>\n",
       "      <th>...</th>\n",
       "      <td>...</td>\n",
       "      <td>...</td>\n",
       "      <td>...</td>\n",
       "      <td>...</td>\n",
       "      <td>...</td>\n",
       "      <td>...</td>\n",
       "      <td>...</td>\n",
       "      <td>...</td>\n",
       "      <td>...</td>\n",
       "      <td>...</td>\n",
       "      <td>...</td>\n",
       "      <td>...</td>\n",
       "      <td>...</td>\n",
       "      <td>...</td>\n",
       "      <td>...</td>\n",
       "      <td>...</td>\n",
       "      <td>...</td>\n",
       "      <td>...</td>\n",
       "      <td>...</td>\n",
       "      <td>...</td>\n",
       "      <td>...</td>\n",
       "    </tr>\n",
       "    <tr>\n",
       "      <th>8405893</th>\n",
       "      <td>False</td>\n",
       "      <td>False</td>\n",
       "      <td>False</td>\n",
       "      <td>False</td>\n",
       "      <td>False</td>\n",
       "      <td>False</td>\n",
       "      <td>False</td>\n",
       "      <td>False</td>\n",
       "      <td>False</td>\n",
       "      <td>False</td>\n",
       "      <td>...</td>\n",
       "      <td>False</td>\n",
       "      <td>False</td>\n",
       "      <td>False</td>\n",
       "      <td>False</td>\n",
       "      <td>False</td>\n",
       "      <td>False</td>\n",
       "      <td>False</td>\n",
       "      <td>False</td>\n",
       "      <td>False</td>\n",
       "      <td>False</td>\n",
       "    </tr>\n",
       "    <tr>\n",
       "      <th>8405894</th>\n",
       "      <td>False</td>\n",
       "      <td>False</td>\n",
       "      <td>False</td>\n",
       "      <td>False</td>\n",
       "      <td>False</td>\n",
       "      <td>False</td>\n",
       "      <td>False</td>\n",
       "      <td>False</td>\n",
       "      <td>False</td>\n",
       "      <td>False</td>\n",
       "      <td>...</td>\n",
       "      <td>False</td>\n",
       "      <td>False</td>\n",
       "      <td>False</td>\n",
       "      <td>False</td>\n",
       "      <td>False</td>\n",
       "      <td>False</td>\n",
       "      <td>False</td>\n",
       "      <td>False</td>\n",
       "      <td>False</td>\n",
       "      <td>False</td>\n",
       "    </tr>\n",
       "    <tr>\n",
       "      <th>8405895</th>\n",
       "      <td>False</td>\n",
       "      <td>False</td>\n",
       "      <td>False</td>\n",
       "      <td>False</td>\n",
       "      <td>False</td>\n",
       "      <td>False</td>\n",
       "      <td>False</td>\n",
       "      <td>False</td>\n",
       "      <td>False</td>\n",
       "      <td>False</td>\n",
       "      <td>...</td>\n",
       "      <td>False</td>\n",
       "      <td>False</td>\n",
       "      <td>False</td>\n",
       "      <td>False</td>\n",
       "      <td>False</td>\n",
       "      <td>False</td>\n",
       "      <td>False</td>\n",
       "      <td>False</td>\n",
       "      <td>False</td>\n",
       "      <td>False</td>\n",
       "    </tr>\n",
       "    <tr>\n",
       "      <th>8405896</th>\n",
       "      <td>False</td>\n",
       "      <td>False</td>\n",
       "      <td>False</td>\n",
       "      <td>False</td>\n",
       "      <td>False</td>\n",
       "      <td>False</td>\n",
       "      <td>False</td>\n",
       "      <td>False</td>\n",
       "      <td>False</td>\n",
       "      <td>False</td>\n",
       "      <td>...</td>\n",
       "      <td>False</td>\n",
       "      <td>False</td>\n",
       "      <td>False</td>\n",
       "      <td>False</td>\n",
       "      <td>False</td>\n",
       "      <td>False</td>\n",
       "      <td>False</td>\n",
       "      <td>False</td>\n",
       "      <td>False</td>\n",
       "      <td>False</td>\n",
       "    </tr>\n",
       "    <tr>\n",
       "      <th>8405897</th>\n",
       "      <td>False</td>\n",
       "      <td>False</td>\n",
       "      <td>False</td>\n",
       "      <td>False</td>\n",
       "      <td>False</td>\n",
       "      <td>False</td>\n",
       "      <td>False</td>\n",
       "      <td>False</td>\n",
       "      <td>False</td>\n",
       "      <td>False</td>\n",
       "      <td>...</td>\n",
       "      <td>False</td>\n",
       "      <td>False</td>\n",
       "      <td>False</td>\n",
       "      <td>False</td>\n",
       "      <td>False</td>\n",
       "      <td>False</td>\n",
       "      <td>False</td>\n",
       "      <td>False</td>\n",
       "      <td>False</td>\n",
       "      <td>False</td>\n",
       "    </tr>\n",
       "  </tbody>\n",
       "</table>\n",
       "<p>8405898 rows × 4372 columns</p>\n",
       "</div>"
      ],
      "text/plain": [
       "         down_event_!  down_event_\"  down_event_#  down_event_$  down_event_%  \\\n",
       "0               False         False         False         False         False   \n",
       "1               False         False         False         False         False   \n",
       "2               False         False         False         False         False   \n",
       "3               False         False         False         False         False   \n",
       "4               False         False         False         False         False   \n",
       "...               ...           ...           ...           ...           ...   \n",
       "8405893         False         False         False         False         False   \n",
       "8405894         False         False         False         False         False   \n",
       "8405895         False         False         False         False         False   \n",
       "8405896         False         False         False         False         False   \n",
       "8405897         False         False         False         False         False   \n",
       "\n",
       "         down_event_&  down_event_'  down_event_(  down_event_)  down_event_*  \\\n",
       "0               False         False         False         False         False   \n",
       "1               False         False         False         False         False   \n",
       "2               False         False         False         False         False   \n",
       "3               False         False         False         False         False   \n",
       "4               False         False         False         False         False   \n",
       "...               ...           ...           ...           ...           ...   \n",
       "8405893         False         False         False         False         False   \n",
       "8405894         False         False         False         False         False   \n",
       "8405895         False         False         False         False         False   \n",
       "8405896         False         False         False         False         False   \n",
       "8405897         False         False         False         False         False   \n",
       "\n",
       "         ...  text_change_  text_change_¡  text_change_·  text_change_¿  \\\n",
       "0        ...          False          False          False          False   \n",
       "1        ...          False          False          False          False   \n",
       "2        ...          False          False          False          False   \n",
       "3        ...          False          False          False          False   \n",
       "4        ...          False          False          False          False   \n",
       "...      ...            ...            ...            ...            ...   \n",
       "8405893  ...          False          False          False          False   \n",
       "8405894  ...          False          False          False          False   \n",
       "8405895  ...          False          False          False          False   \n",
       "8405896  ...          False          False          False          False   \n",
       "8405897  ...          False          False          False          False   \n",
       "\n",
       "         text_change_Â´  text_change_Ä±  text_change_Å  text_change_Ë  \\\n",
       "0                 False           False           False           False   \n",
       "1                 False           False           False           False   \n",
       "2                 False           False           False           False   \n",
       "3                 False           False           False           False   \n",
       "4                 False           False           False           False   \n",
       "...                 ...             ...             ...             ...   \n",
       "8405893           False           False           False           False   \n",
       "8405894           False           False           False           False   \n",
       "8405895           False           False           False           False   \n",
       "8405896           False           False           False           False   \n",
       "8405897           False           False           False           False   \n",
       "\n",
       "         text_change_â  text_change_ä  \n",
       "0                  False          False  \n",
       "1                  False          False  \n",
       "2                  False          False  \n",
       "3                  False          False  \n",
       "4                  False          False  \n",
       "...                  ...            ...  \n",
       "8405893            False          False  \n",
       "8405894            False          False  \n",
       "8405895            False          False  \n",
       "8405896            False          False  \n",
       "8405897            False          False  \n",
       "\n",
       "[8405898 rows x 4372 columns]"
      ]
     },
     "execution_count": 93,
     "metadata": {},
     "output_type": "execute_result"
    }
   ],
   "source": [
    "pd.get_dummies(df[['down_event', 'up_event', 'text_change']])"
   ]
  },
  {
   "cell_type": "code",
   "execution_count": null,
   "metadata": {},
   "outputs": [],
   "source": [
    "'id', 'event_id', 'down_time', 'up_time', 'action_time', 'activity',\n",
    "       'down_event', 'up_event', 'text_change', 'cursor_position',\n",
    "       'word_count'"
   ]
  },
  {
   "cell_type": "code",
   "execution_count": null,
   "metadata": {},
   "outputs": [],
   "source": []
  },
  {
   "cell_type": "code",
   "execution_count": 60,
   "metadata": {},
   "outputs": [
    {
     "data": {
      "text/plain": [
       "0             4526\n",
       "1             4558\n",
       "2           106571\n",
       "3           106686\n",
       "4           107196\n",
       "            ...   \n",
       "8405893    2063944\n",
       "8405894    2064497\n",
       "8405895    2064657\n",
       "8405896    2069186\n",
       "8405897    2070065\n",
       "Name: down_time, Length: 8405898, dtype: int64"
      ]
     },
     "execution_count": 60,
     "metadata": {},
     "output_type": "execute_result"
    }
   ],
   "source": [
    "df['down_time']"
   ]
  },
  {
   "cell_type": "code",
   "execution_count": 88,
   "metadata": {},
   "outputs": [
    {
     "data": {
      "text/plain": [
       "array(['Nonproduction', 'Input', 'Remove/Cut', 'Replace',\n",
       "       'Move From [284, 292] To [282, 290]',\n",
       "       'Move From [287, 289] To [285, 287]',\n",
       "       'Move From [460, 461] To [465, 466]', 'Paste',\n",
       "       'Move From [905, 1314] To [907, 1316]',\n",
       "       'Move From [565, 743] To [669, 847]',\n",
       "       'Move From [669, 847] To [565, 743]',\n",
       "       'Move From [1041, 1121] To [1496, 1576]',\n",
       "       'Move From [1455, 1557] To [1323, 1425]',\n",
       "       'Move From [2268, 2275] To [2247, 2254]',\n",
       "       'Move From [213, 302] To [902, 991]',\n",
       "       'Move From [0, 158] To [234, 392]',\n",
       "       'Move From [460, 465] To [925, 930]',\n",
       "       'Move From [810, 906] To [816, 912]',\n",
       "       'Move From [186, 187] To [184, 185]',\n",
       "       'Move From [140, 272] To [299, 431]',\n",
       "       'Move From [114, 140] To [272, 298]',\n",
       "       'Move From [1386, 1450] To [1445, 1509]',\n",
       "       'Move From [442, 524] To [296, 378]',\n",
       "       'Move From [408, 414] To [390, 396]',\n",
       "       'Move From [1144, 1147] To [1142, 1145]',\n",
       "       'Move From [218, 220] To [206, 208]',\n",
       "       'Move From [164, 165] To [153, 154]',\n",
       "       'Move From [623, 632] To [624, 633]',\n",
       "       'Move From [747, 960] To [1041, 1254]',\n",
       "       'Move From [274, 314] To [299, 339]',\n",
       "       'Move From [624, 625] To [845, 846]',\n",
       "       'Move From [1861, 2063] To [1766, 1968]',\n",
       "       'Move From [1766, 1968] To [1861, 2063]',\n",
       "       'Move From [2091, 2179] To [252, 340]',\n",
       "       'Move From [923, 1077] To [340, 494]',\n",
       "       'Move From [0, 1] To [590, 591]',\n",
       "       'Move From [999, 1000] To [1000, 1001]',\n",
       "       'Move From [13, 65] To [9, 61]',\n",
       "       'Move From [1651, 1769] To [1565, 1683]',\n",
       "       'Move From [61, 136] To [0, 75]', 'Move From [0, 75] To [1, 76]',\n",
       "       'Move From [75, 134] To [304, 363]',\n",
       "       'Move From [289, 355] To [562, 628]',\n",
       "       'Move From [944, 1102] To [1050, 1208]',\n",
       "       'Move From [1306, 1371] To [1061, 1126]',\n",
       "       'Move From [1061, 1126] To [1306, 1371]',\n",
       "       'Move From [1361, 1362] To [1358, 1359]',\n",
       "       'Move From [51, 86] To [109, 144]',\n",
       "       'Move From [134, 169] To [122, 157]',\n",
       "       'Move From [382, 437] To [458, 513]'], dtype=object)"
      ]
     },
     "execution_count": 88,
     "metadata": {},
     "output_type": "execute_result"
    }
   ],
   "source": [
    "df[\"activity\"].unique()"
   ]
  },
  {
   "cell_type": "code",
   "execution_count": 30,
   "metadata": {},
   "outputs": [
    {
     "name": "stdout",
     "output_type": "stream",
     "text": [
      "The average of the number of events per essay in the test dataset is : 3402.0\n"
     ]
    }
   ],
   "source": [
    "print('The average of the number of events per essay in the test dataset is : ' + str(df.groupby(\"id\").max(numeric_only=True)[\"event_id\"].mean().round(0)))"
   ]
  },
  {
   "cell_type": "code",
   "execution_count": 49,
   "metadata": {},
   "outputs": [
    {
     "data": {
      "text/plain": [
       "3402.0"
      ]
     },
     "execution_count": 49,
     "metadata": {},
     "output_type": "execute_result"
    }
   ],
   "source": [
    "df.groupby(\"id\").max(numeric_only=True)[\"event_id\"].mean().round(0)"
   ]
  },
  {
   "cell_type": "code",
   "execution_count": 53,
   "metadata": {},
   "outputs": [
    {
     "data": {
      "text/plain": [
       "3402.0"
      ]
     },
     "execution_count": 53,
     "metadata": {},
     "output_type": "execute_result"
    }
   ],
   "source": [
    "df.groupby('id')[\"event_id\"].max().mean().round(0)"
   ]
  },
  {
   "cell_type": "code",
   "execution_count": 36,
   "metadata": {},
   "outputs": [
    {
     "data": {
      "text/plain": [
       "array(['Leftclick', 'Shift', 'q', 'Space', 'Backspace', '.', ',', 'Enter',\n",
       "       'ArrowLeft', \"'\", ';', 'ArrowRight'], dtype=object)"
      ]
     },
     "execution_count": 36,
     "metadata": {},
     "output_type": "execute_result"
    }
   ],
   "source": [
    "df.loc[df['id'] == '001519c8'][\"down_event\"].unique()"
   ]
  },
  {
   "cell_type": "code",
   "execution_count": 24,
   "metadata": {},
   "outputs": [
    {
     "data": {
      "text/plain": [
       "2557"
      ]
     },
     "execution_count": 24,
     "metadata": {},
     "output_type": "execute_result"
    }
   ],
   "source": [
    "df.loc[df['id'] == '001519c8', 'event_id'].max()"
   ]
  },
  {
   "cell_type": "code",
   "execution_count": 25,
   "metadata": {},
   "outputs": [
    {
     "data": {
      "text/plain": [
       "2558"
      ]
     },
     "execution_count": 25,
     "metadata": {},
     "output_type": "execute_result"
    }
   ],
   "source": [
    "1279*2"
   ]
  },
  {
   "cell_type": "code",
   "execution_count": 29,
   "metadata": {},
   "outputs": [
    {
     "data": {
      "text/plain": [
       "1279.0"
      ]
     },
     "execution_count": 29,
     "metadata": {},
     "output_type": "execute_result"
    }
   ],
   "source": [
    "df.loc[df['id'] == '001519c8', 'event_id'].sum() / (df.loc[df['id'] == '001519c8', 'event_id'].shape[0])"
   ]
  },
  {
   "cell_type": "code",
   "execution_count": 26,
   "metadata": {},
   "outputs": [
    {
     "data": {
      "text/plain": [
       "0          1\n",
       "1          2\n",
       "2          3\n",
       "3          4\n",
       "4          5\n",
       "        ... \n",
       "2552    2553\n",
       "2553    2554\n",
       "2554    2555\n",
       "2555    2556\n",
       "2556    2557\n",
       "Name: event_id, Length: 2557, dtype: int64"
      ]
     },
     "execution_count": 26,
     "metadata": {},
     "output_type": "execute_result"
    }
   ],
   "source": [
    "df.loc[df['id'] == '001519c8', 'event_id']"
   ]
  },
  {
   "cell_type": "code",
   "execution_count": 9,
   "metadata": {},
   "outputs": [
    {
     "data": {
      "text/plain": [
       "0          001519c8\n",
       "1          001519c8\n",
       "2          001519c8\n",
       "3          001519c8\n",
       "4          001519c8\n",
       "             ...   \n",
       "8405893    fff05981\n",
       "8405894    fff05981\n",
       "8405895    fff05981\n",
       "8405896    fff05981\n",
       "8405897    fff05981\n",
       "Name: id, Length: 8405898, dtype: object"
      ]
     },
     "execution_count": 9,
     "metadata": {},
     "output_type": "execute_result"
    }
   ],
   "source": [
    "df['id']"
   ]
  },
  {
   "cell_type": "code",
   "execution_count": 11,
   "metadata": {},
   "outputs": [
    {
     "data": {
      "text/html": [
       "<div>\n",
       "<style scoped>\n",
       "    .dataframe tbody tr th:only-of-type {\n",
       "        vertical-align: middle;\n",
       "    }\n",
       "\n",
       "    .dataframe tbody tr th {\n",
       "        vertical-align: top;\n",
       "    }\n",
       "\n",
       "    .dataframe thead th {\n",
       "        text-align: right;\n",
       "    }\n",
       "</style>\n",
       "<table border=\"1\" class=\"dataframe\">\n",
       "  <thead>\n",
       "    <tr style=\"text-align: right;\">\n",
       "      <th></th>\n",
       "      <th>id</th>\n",
       "      <th>event_id</th>\n",
       "      <th>down_time</th>\n",
       "      <th>up_time</th>\n",
       "      <th>action_time</th>\n",
       "      <th>activity</th>\n",
       "      <th>down_event</th>\n",
       "      <th>up_event</th>\n",
       "      <th>text_change</th>\n",
       "      <th>cursor_position</th>\n",
       "      <th>word_count</th>\n",
       "    </tr>\n",
       "  </thead>\n",
       "  <tbody>\n",
       "    <tr>\n",
       "      <th>0</th>\n",
       "      <td>001519c8</td>\n",
       "      <td>1</td>\n",
       "      <td>4526</td>\n",
       "      <td>4557</td>\n",
       "      <td>31</td>\n",
       "      <td>Nonproduction</td>\n",
       "      <td>Leftclick</td>\n",
       "      <td>Leftclick</td>\n",
       "      <td>NoChange</td>\n",
       "      <td>0</td>\n",
       "      <td>0</td>\n",
       "    </tr>\n",
       "    <tr>\n",
       "      <th>1</th>\n",
       "      <td>001519c8</td>\n",
       "      <td>2</td>\n",
       "      <td>4558</td>\n",
       "      <td>4962</td>\n",
       "      <td>404</td>\n",
       "      <td>Nonproduction</td>\n",
       "      <td>Leftclick</td>\n",
       "      <td>Leftclick</td>\n",
       "      <td>NoChange</td>\n",
       "      <td>0</td>\n",
       "      <td>0</td>\n",
       "    </tr>\n",
       "    <tr>\n",
       "      <th>2</th>\n",
       "      <td>001519c8</td>\n",
       "      <td>3</td>\n",
       "      <td>106571</td>\n",
       "      <td>106571</td>\n",
       "      <td>0</td>\n",
       "      <td>Nonproduction</td>\n",
       "      <td>Shift</td>\n",
       "      <td>Shift</td>\n",
       "      <td>NoChange</td>\n",
       "      <td>0</td>\n",
       "      <td>0</td>\n",
       "    </tr>\n",
       "    <tr>\n",
       "      <th>3</th>\n",
       "      <td>001519c8</td>\n",
       "      <td>4</td>\n",
       "      <td>106686</td>\n",
       "      <td>106777</td>\n",
       "      <td>91</td>\n",
       "      <td>Input</td>\n",
       "      <td>q</td>\n",
       "      <td>q</td>\n",
       "      <td>q</td>\n",
       "      <td>1</td>\n",
       "      <td>1</td>\n",
       "    </tr>\n",
       "    <tr>\n",
       "      <th>4</th>\n",
       "      <td>001519c8</td>\n",
       "      <td>5</td>\n",
       "      <td>107196</td>\n",
       "      <td>107323</td>\n",
       "      <td>127</td>\n",
       "      <td>Input</td>\n",
       "      <td>q</td>\n",
       "      <td>q</td>\n",
       "      <td>q</td>\n",
       "      <td>2</td>\n",
       "      <td>1</td>\n",
       "    </tr>\n",
       "    <tr>\n",
       "      <th>...</th>\n",
       "      <td>...</td>\n",
       "      <td>...</td>\n",
       "      <td>...</td>\n",
       "      <td>...</td>\n",
       "      <td>...</td>\n",
       "      <td>...</td>\n",
       "      <td>...</td>\n",
       "      <td>...</td>\n",
       "      <td>...</td>\n",
       "      <td>...</td>\n",
       "      <td>...</td>\n",
       "    </tr>\n",
       "    <tr>\n",
       "      <th>2552</th>\n",
       "      <td>001519c8</td>\n",
       "      <td>2553</td>\n",
       "      <td>1781786</td>\n",
       "      <td>1781841</td>\n",
       "      <td>55</td>\n",
       "      <td>Remove/Cut</td>\n",
       "      <td>Backspace</td>\n",
       "      <td>Backspace</td>\n",
       "      <td>q</td>\n",
       "      <td>555</td>\n",
       "      <td>255</td>\n",
       "    </tr>\n",
       "    <tr>\n",
       "      <th>2553</th>\n",
       "      <td>001519c8</td>\n",
       "      <td>2554</td>\n",
       "      <td>1781917</td>\n",
       "      <td>1781991</td>\n",
       "      <td>74</td>\n",
       "      <td>Remove/Cut</td>\n",
       "      <td>Backspace</td>\n",
       "      <td>Backspace</td>\n",
       "      <td>q</td>\n",
       "      <td>554</td>\n",
       "      <td>255</td>\n",
       "    </tr>\n",
       "    <tr>\n",
       "      <th>2554</th>\n",
       "      <td>001519c8</td>\n",
       "      <td>2555</td>\n",
       "      <td>1782062</td>\n",
       "      <td>1782141</td>\n",
       "      <td>79</td>\n",
       "      <td>Remove/Cut</td>\n",
       "      <td>Backspace</td>\n",
       "      <td>Backspace</td>\n",
       "      <td>q</td>\n",
       "      <td>553</td>\n",
       "      <td>255</td>\n",
       "    </tr>\n",
       "    <tr>\n",
       "      <th>2555</th>\n",
       "      <td>001519c8</td>\n",
       "      <td>2556</td>\n",
       "      <td>1782922</td>\n",
       "      <td>1782985</td>\n",
       "      <td>63</td>\n",
       "      <td>Input</td>\n",
       "      <td>q</td>\n",
       "      <td>q</td>\n",
       "      <td>q</td>\n",
       "      <td>554</td>\n",
       "      <td>255</td>\n",
       "    </tr>\n",
       "    <tr>\n",
       "      <th>2556</th>\n",
       "      <td>001519c8</td>\n",
       "      <td>2557</td>\n",
       "      <td>1801877</td>\n",
       "      <td>1801969</td>\n",
       "      <td>92</td>\n",
       "      <td>Nonproduction</td>\n",
       "      <td>Leftclick</td>\n",
       "      <td>Leftclick</td>\n",
       "      <td>NoChange</td>\n",
       "      <td>1046</td>\n",
       "      <td>255</td>\n",
       "    </tr>\n",
       "  </tbody>\n",
       "</table>\n",
       "<p>2557 rows × 11 columns</p>\n",
       "</div>"
      ],
      "text/plain": [
       "            id  event_id  down_time  up_time  action_time       activity  \\\n",
       "0     001519c8         1       4526     4557           31  Nonproduction   \n",
       "1     001519c8         2       4558     4962          404  Nonproduction   \n",
       "2     001519c8         3     106571   106571            0  Nonproduction   \n",
       "3     001519c8         4     106686   106777           91          Input   \n",
       "4     001519c8         5     107196   107323          127          Input   \n",
       "...        ...       ...        ...      ...          ...            ...   \n",
       "2552  001519c8      2553    1781786  1781841           55     Remove/Cut   \n",
       "2553  001519c8      2554    1781917  1781991           74     Remove/Cut   \n",
       "2554  001519c8      2555    1782062  1782141           79     Remove/Cut   \n",
       "2555  001519c8      2556    1782922  1782985           63          Input   \n",
       "2556  001519c8      2557    1801877  1801969           92  Nonproduction   \n",
       "\n",
       "     down_event   up_event text_change  cursor_position  word_count  \n",
       "0     Leftclick  Leftclick    NoChange                0           0  \n",
       "1     Leftclick  Leftclick    NoChange                0           0  \n",
       "2         Shift      Shift    NoChange                0           0  \n",
       "3             q          q           q                1           1  \n",
       "4             q          q           q                2           1  \n",
       "...         ...        ...         ...              ...         ...  \n",
       "2552  Backspace  Backspace           q              555         255  \n",
       "2553  Backspace  Backspace           q              554         255  \n",
       "2554  Backspace  Backspace           q              553         255  \n",
       "2555          q          q           q              554         255  \n",
       "2556  Leftclick  Leftclick    NoChange             1046         255  \n",
       "\n",
       "[2557 rows x 11 columns]"
      ]
     },
     "execution_count": 11,
     "metadata": {},
     "output_type": "execute_result"
    }
   ],
   "source": [
    "df[df['id'] == '001519c8']"
   ]
  },
  {
   "cell_type": "code",
   "execution_count": null,
   "metadata": {},
   "outputs": [],
   "source": [
    "df"
   ]
  }
 ],
 "metadata": {
  "kernelspec": {
   "display_name": "David's Environment",
   "language": "python",
   "name": "david_env"
  },
  "language_info": {
   "codemirror_mode": {
    "name": "ipython",
    "version": 3
   },
   "file_extension": ".py",
   "mimetype": "text/x-python",
   "name": "python",
   "nbconvert_exporter": "python",
   "pygments_lexer": "ipython3",
   "version": "3.10.13"
  }
 },
 "nbformat": 4,
 "nbformat_minor": 4
}
